{
 "cells": [
  {
   "cell_type": "code",
   "execution_count": 1,
   "metadata": {},
   "outputs": [
    {
     "data": {
      "text/plain": [
       "'2.1.2+cpu'"
      ]
     },
     "execution_count": 1,
     "metadata": {},
     "output_type": "execute_result"
    }
   ],
   "source": [
    "import torch \n",
    "\n",
    "torch.__version__"
   ]
  },
  {
   "cell_type": "markdown",
   "metadata": {},
   "source": [
    "## Ejercicio 2"
   ]
  },
  {
   "cell_type": "markdown",
   "metadata": {},
   "source": [
    "Crea un tensor aleatorio con forma .(7, 7)"
   ]
  },
  {
   "cell_type": "code",
   "execution_count": 4,
   "metadata": {},
   "outputs": [
    {
     "name": "stdout",
     "output_type": "stream",
     "text": [
      "tensor([[0.2484, 0.6295, 0.4565],\n",
      "        [0.9373, 0.5963, 0.8266]])\n",
      "torch.Size([2, 3])\n"
     ]
    }
   ],
   "source": [
    "tensor_1 = torch.rand(2,3)\n",
    "\n",
    "print(tensor_1)\n",
    "print(tensor_1.shape)"
   ]
  },
  {
   "cell_type": "markdown",
   "metadata": {},
   "source": [
    "## Ejercicio 3"
   ]
  },
  {
   "cell_type": "markdown",
   "metadata": {},
   "source": [
    "Realiza una multiplicación matricial en el tensor de 2 con otro tensor aleatorio con forma (pista: es posible que tengas que transponer el segundo tensor).(1, 7)"
   ]
  },
  {
   "cell_type": "code",
   "execution_count": 10,
   "metadata": {},
   "outputs": [
    {
     "data": {
      "text/plain": [
       "tensor([[0.9927, 0.8923],\n",
       "        [1.4914, 1.1728]])"
      ]
     },
     "execution_count": 10,
     "metadata": {},
     "output_type": "execute_result"
    }
   ],
   "source": [
    "tensor_2 = torch.rand(2,3)\n",
    "\n",
    "# tensor_1 @ tensor_2.T\n",
    "# tensor_1.matmul(tensor_2.T)\n",
    "tensor_1.mm(tensor_2.T)"
   ]
  },
  {
   "cell_type": "markdown",
   "metadata": {},
   "source": [
    "## Ejercicio 4"
   ]
  },
  {
   "cell_type": "markdown",
   "metadata": {},
   "source": [
    "Establezca la semilla aleatoria en y repita los ejercicios 2 y 3.0"
   ]
  },
  {
   "cell_type": "code",
   "execution_count": 14,
   "metadata": {},
   "outputs": [
    {
     "name": "stdout",
     "output_type": "stream",
     "text": [
      "tensor([[0.8823, 0.9150, 0.3829],\n",
      "        [0.9593, 0.3904, 0.6009]])\n",
      "tensor([[0.2566, 0.7936, 0.9408],\n",
      "        [0.1332, 0.9346, 0.5936]])\n",
      "tensor([[1.3127, 1.1999],\n",
      "        [1.1213, 0.8494]])\n"
     ]
    }
   ],
   "source": [
    "torch.manual_seed(42)\n",
    "\n",
    "tensor_1 = torch.rand(2,3)\n",
    "tensor_2 = torch.rand(2,3)\n",
    "\n",
    "print(tensor_1)\n",
    "print(tensor_2)\n",
    "\n",
    "print(torch.mm(tensor_1, tensor_2.T))"
   ]
  },
  {
   "cell_type": "code",
   "execution_count": 20,
   "metadata": {},
   "outputs": [
    {
     "name": "stdout",
     "output_type": "stream",
     "text": [
      "El valor maximo esta en la posicion: 2 y es: 3\n",
      "El valor minimo esta en la posicion: 0 y es: 1\n"
     ]
    }
   ],
   "source": [
    "tensor_x = torch.tensor([1,2,3])\n",
    "\n",
    "print(f\"El valor maximo esta en la posicion: {tensor_x.argmax()} y es: {tensor_x.max()}\")\n",
    "print(f\"El valor minimo esta en la posicion: {tensor_x.argmin()} y es: {tensor_x.min()}\")"
   ]
  },
  {
   "cell_type": "markdown",
   "metadata": {},
   "source": [
    "## Ejercicio 5"
   ]
  },
  {
   "cell_type": "markdown",
   "metadata": {},
   "source": [
    "Hablando de semillas aleatorias, vimos cómo configurarlo, pero ¿existe un equivalente de GPU? (Sugerencia: tendrás que consultar la documentación para esto). Si lo hay, establezca la semilla aleatoria de GPU en .torch.manual_seed()torch.cuda1234"
   ]
  },
  {
   "cell_type": "code",
   "execution_count": null,
   "metadata": {},
   "outputs": [],
   "source": [
    "torch.cuda.manual_seed(1234)"
   ]
  },
  {
   "cell_type": "markdown",
   "metadata": {},
   "source": [
    "## Ejercicio 6"
   ]
  },
  {
   "cell_type": "markdown",
   "metadata": {},
   "source": [
    "Crea dos tensores aleatorios de forma y envíalos a la GPU (necesitarás acceso a una GPU para esto). Se establece al crear los tensores (no tiene que ser la semilla aleatoria de la GPU).(2, 3)torch.manual_seed(1234)"
   ]
  }
 ],
 "metadata": {
  "kernelspec": {
   "display_name": "Python 3",
   "language": "python",
   "name": "python3"
  },
  "language_info": {
   "codemirror_mode": {
    "name": "ipython",
    "version": 3
   },
   "file_extension": ".py",
   "mimetype": "text/x-python",
   "name": "python",
   "nbconvert_exporter": "python",
   "pygments_lexer": "ipython3",
   "version": "3.11.3"
  }
 },
 "nbformat": 4,
 "nbformat_minor": 2
}
