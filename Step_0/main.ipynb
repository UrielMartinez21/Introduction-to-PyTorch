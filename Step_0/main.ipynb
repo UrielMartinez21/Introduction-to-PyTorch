{
 "cells": [
  {
   "cell_type": "code",
   "execution_count": 1,
   "metadata": {},
   "outputs": [
    {
     "data": {
      "text/plain": [
       "'2.1.2+cpu'"
      ]
     },
     "execution_count": 1,
     "metadata": {},
     "output_type": "execute_result"
    }
   ],
   "source": [
    "import torch\n",
    "\n",
    "torch.__version__"
   ]
  },
  {
   "cell_type": "markdown",
   "metadata": {},
   "source": [
    "## Escalares, Vectores, Matrices y Tensores"
   ]
  },
  {
   "cell_type": "code",
   "execution_count": 15,
   "metadata": {},
   "outputs": [
    {
     "name": "stdout",
     "output_type": "stream",
     "text": [
      "tensor(7)\n",
      "0\n",
      "7\n"
     ]
    }
   ],
   "source": [
    "escalar = torch.tensor(7)\n",
    "\n",
    "# --> Visualizacion de un escalar\n",
    "print(escalar)\n",
    "print(escalar.ndim)\n",
    "print(escalar.item())"
   ]
  },
  {
   "cell_type": "code",
   "execution_count": 12,
   "metadata": {},
   "outputs": [
    {
     "name": "stdout",
     "output_type": "stream",
     "text": [
      "tensor([1, 2, 3, 4, 5])\n",
      "1\n"
     ]
    }
   ],
   "source": [
    "vector = torch.tensor([1, 2, 3, 4, 5])\n",
    "\n",
    "# --> Visualizacion de un vector\n",
    "print(vector)\n",
    "print(vector.ndim)"
   ]
  },
  {
   "cell_type": "code",
   "execution_count": 17,
   "metadata": {},
   "outputs": [
    {
     "name": "stdout",
     "output_type": "stream",
     "text": [
      "tensor([[1, 2, 3],\n",
      "        [4, 5, 6],\n",
      "        [7, 8, 9]])\n",
      "2\n",
      "torch.Size([3, 3])\n"
     ]
    }
   ],
   "source": [
    "MATRIX = torch.tensor([\n",
    "    [1, 2, 3], \n",
    "    [4, 5, 6], \n",
    "    [7, 8, 9]\n",
    "    ])\n",
    "\n",
    "# --> Visualizacion de una matriz\n",
    "print(MATRIX)\n",
    "print(MATRIX.ndim)\n",
    "print(MATRIX.shape)"
   ]
  },
  {
   "cell_type": "code",
   "execution_count": 19,
   "metadata": {},
   "outputs": [
    {
     "name": "stdout",
     "output_type": "stream",
     "text": [
      "tensor([[[1, 2, 3],\n",
      "         [4, 5, 6],\n",
      "         [7, 8, 9]]])\n",
      "3\n",
      "torch.Size([1, 3, 3])\n"
     ]
    }
   ],
   "source": [
    "# Los tensores pueden representar casi cualquier cosa\n",
    "TENSOR = torch.tensor([[\n",
    "    [1, 2, 3], [4, 5, 6], [7, 8, 9]\n",
    "    ]])\n",
    "\n",
    "# --> Visualizacion de un tensor\n",
    "print(TENSOR)\n",
    "print(TENSOR.ndim)\n",
    "print(TENSOR.shape)"
   ]
  },
  {
   "cell_type": "markdown",
   "metadata": {},
   "source": [
    "## Tensores Aleatorios"
   ]
  },
  {
   "cell_type": "code",
   "execution_count": 23,
   "metadata": {},
   "outputs": [
    {
     "name": "stdout",
     "output_type": "stream",
     "text": [
      "tensor([[0.1648, 0.2922, 0.3445],\n",
      "        [0.6724, 0.1565, 0.7131],\n",
      "        [0.7027, 0.1021, 0.2640]])\n"
     ]
    }
   ],
   "source": [
    "random_tensor = torch.rand(3, 3)\n",
    "\n",
    "# --> Visualizacion de un tensor aleatorio\n",
    "print(random_tensor)"
   ]
  },
  {
   "cell_type": "code",
   "execution_count": 25,
   "metadata": {},
   "outputs": [
    {
     "name": "stdout",
     "output_type": "stream",
     "text": [
      "torch.Size([224, 224, 3])\n"
     ]
    }
   ],
   "source": [
    "random_tensor2 = torch.randn(size=(224, 224, 3))\n",
    "\n",
    "# --> Visualizacion de un tensor aleatorio\n",
    "# print(random_tensor2)\n",
    "print(random_tensor2.shape)"
   ]
  },
  {
   "cell_type": "markdown",
   "metadata": {},
   "source": [
    "## Tensores diferentes"
   ]
  },
  {
   "cell_type": "code",
   "execution_count": 26,
   "metadata": {},
   "outputs": [
    {
     "name": "stdout",
     "output_type": "stream",
     "text": [
      "tensor([[0., 0., 0.],\n",
      "        [0., 0., 0.],\n",
      "        [0., 0., 0.]])\n"
     ]
    }
   ],
   "source": [
    "tensor_ceros = torch.zeros(size=(3, 3))\n",
    "\n",
    "# --> Visualizacion de un tensor de ceros\n",
    "print(tensor_ceros)"
   ]
  },
  {
   "cell_type": "code",
   "execution_count": 27,
   "metadata": {},
   "outputs": [
    {
     "name": "stdout",
     "output_type": "stream",
     "text": [
      "tensor([[1., 1., 1.],\n",
      "        [1., 1., 1.],\n",
      "        [1., 1., 1.]])\n"
     ]
    }
   ],
   "source": [
    "tensor_unos = torch.ones(size=(3, 3))\n",
    "\n",
    "# --> Visualizacion de un tensor de unos\n",
    "print(tensor_unos)"
   ]
  },
  {
   "cell_type": "code",
   "execution_count": 29,
   "metadata": {},
   "outputs": [
    {
     "name": "stdout",
     "output_type": "stream",
     "text": [
      "tensor([0, 1, 2, 3, 4])\n",
      "torch.Size([5])\n",
      "1\n",
      "torch.int64\n",
      "cpu\n"
     ]
    }
   ],
   "source": [
    "tensor_rango = torch.arange(start=0, end=5, step=1)\n",
    "\n",
    "# --> Visualizacion de un tensor de rango\n",
    "print(tensor_rango)\n",
    "print(tensor_rango.shape)\n",
    "print(tensor_rango.ndim)\n",
    "print(tensor_rango.dtype)\n",
    "print(tensor_rango.device)"
   ]
  },
  {
   "cell_type": "markdown",
   "metadata": {},
   "source": [
    "## Operaciones básicas"
   ]
  },
  {
   "cell_type": "code",
   "execution_count": 34,
   "metadata": {},
   "outputs": [
    {
     "name": "stdout",
     "output_type": "stream",
     "text": [
      "tensor([11, 12, 13])\n",
      "tensor([-9, -8, -7])\n",
      "tensor([10, 20, 30])\n",
      "tensor([0.1000, 0.2000, 0.3000])\n"
     ]
    }
   ],
   "source": [
    "tensor_ejemplo = torch.tensor([1, 2, 3])\n",
    "\n",
    "# --> Visualizacion de un tensor de ejemplo\n",
    "print(tensor_ejemplo + 10)\n",
    "print(tensor_ejemplo - 10)\n",
    "print(tensor_ejemplo * 10)\n",
    "print(tensor_ejemplo / 10)"
   ]
  },
  {
   "cell_type": "markdown",
   "metadata": {},
   "source": [
    "## Multiplicacion de matrices"
   ]
  },
  {
   "cell_type": "code",
   "execution_count": 37,
   "metadata": {},
   "outputs": [
    {
     "name": "stdout",
     "output_type": "stream",
     "text": [
      "tensor([1, 4, 9])\n",
      "tensor(14)\n",
      "tensor(14)\n"
     ]
    }
   ],
   "source": [
    "print(tensor_ejemplo * tensor_ejemplo)\n",
    "print(torch.matmul(tensor_ejemplo, tensor_ejemplo))\n",
    "print(tensor_ejemplo @ tensor_ejemplo)"
   ]
  },
  {
   "cell_type": "code",
   "execution_count": 50,
   "metadata": {},
   "outputs": [
    {
     "name": "stdout",
     "output_type": "stream",
     "text": [
      "[+] Shape of tensor_a: torch.Size([2, 3])\n",
      "[+] Shape of tensor_b: torch.Size([2, 3])\n",
      "[+] Shape of tensor_b.T: torch.Size([3, 2])\n"
     ]
    },
    {
     "data": {
      "text/plain": [
       "tensor([[ 32.,  50.],\n",
       "        [ 77., 122.]])"
      ]
     },
     "execution_count": 50,
     "metadata": {},
     "output_type": "execute_result"
    }
   ],
   "source": [
    "tensor_a = torch.tensor([\n",
    "    [1, 2, 3],\n",
    "    [4, 5, 6]\n",
    "    ], dtype=torch.float32)\n",
    "tensor_b = torch.tensor([\n",
    "    [4, 5, 6],\n",
    "    [7, 8, 9]\n",
    "    ], dtype=torch.float32)\n",
    "\n",
    "# --> Forma de los tensores\n",
    "print(\"[+] Shape of tensor_a:\", tensor_a.shape)\n",
    "print(\"[+] Shape of tensor_b:\", tensor_b.shape)\n",
    "print(\"[+] Shape of tensor_b.T:\", tensor_b.T.shape)\n",
    "\n",
    "\n",
    "# --> Asi no\n",
    "# torch.matmul(tensor_a, tensor_b)\n",
    "\n",
    "# --> Asi si\n",
    "# print(torch.mm(tensor_a, tensor_b.T))\n",
    "tensor_a @ tensor_b.T\n",
    "\n"
   ]
  },
  {
   "cell_type": "code",
   "execution_count": 56,
   "metadata": {},
   "outputs": [
    {
     "name": "stdout",
     "output_type": "stream",
     "text": [
      "[+] Forma de entrada: torch.Size([3, 2])\n",
      "\n",
      "[+] Salida:\n",
      "tensor([[ 3.4106,  2.5283,  0.7568,  1.2170, -0.9066,  1.2485],\n",
      "        [ 4.5382,  3.0122,  0.7445,  1.2880, -0.8020,  1.9955],\n",
      "        [ 5.6657,  3.4961,  0.7323,  1.3590, -0.6974,  2.7424]],\n",
      "       grad_fn=<AddmmBackward0>)\n",
      "\n",
      " [+]Forma de salida: torch.Size([3, 6])\n"
     ]
    }
   ],
   "source": [
    "torch.manual_seed(42)\n",
    "\n",
    "linear = torch.nn.Linear(\n",
    "    in_features=2,      # Caracteristicas de entrada\n",
    "    out_features=6      # Caracteristicas de salida\n",
    ")\n",
    "x = tensor_a.T\n",
    "output = linear(x)\n",
    "print(f\"[+] Forma de entrada: {x.shape}\\n\")\n",
    "print(f\"[+] Salida:\\n{output}\\n\\n [+]Forma de salida: {output.shape}\")"
   ]
  },
  {
   "cell_type": "markdown",
   "metadata": {},
   "source": [
    "## Mover a GPU"
   ]
  },
  {
   "cell_type": "code",
   "execution_count": 64,
   "metadata": {},
   "outputs": [
    {
     "name": "stdout",
     "output_type": "stream",
     "text": [
      "cpu\n",
      "tensor([1, 2, 3]) cpu\n",
      "-------Despues de mover el tensor a la GPU--------\n",
      "tensor([1, 2, 3]) cpu\n"
     ]
    }
   ],
   "source": [
    "# Create tensor (default on CPU)\n",
    "tensor = torch.tensor([1, 2, 3])\n",
    "\n",
    "device = \"cuda\" if torch.cuda.is_available() else \"cpu\"\n",
    "print(device)\n",
    "\n",
    "# Tensor not on GPU\n",
    "print(tensor, tensor.device)\n",
    "\n",
    "# Move tensor to GPU (if available)\n",
    "tensor_on_gpu = tensor.to(device)\n",
    "print(\"Despues de mover el tensor a la GPU\".center(50, \"-\"))\n",
    "print(tensor_on_gpu, tensor_on_gpu.device)"
   ]
  }
 ],
 "metadata": {
  "kernelspec": {
   "display_name": "Python 3",
   "language": "python",
   "name": "python3"
  },
  "language_info": {
   "codemirror_mode": {
    "name": "ipython",
    "version": 3
   },
   "file_extension": ".py",
   "mimetype": "text/x-python",
   "name": "python",
   "nbconvert_exporter": "python",
   "pygments_lexer": "ipython3",
   "version": "3.11.3"
  }
 },
 "nbformat": 4,
 "nbformat_minor": 2
}
