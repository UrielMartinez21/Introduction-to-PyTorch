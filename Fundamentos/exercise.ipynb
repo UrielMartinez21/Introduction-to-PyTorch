{
 "cells": [
  {
   "cell_type": "markdown",
   "metadata": {},
   "source": [
    "## Bibliotecas"
   ]
  },
  {
   "cell_type": "code",
   "execution_count": 1,
   "metadata": {},
   "outputs": [
    {
     "data": {
      "text/plain": [
       "'2.1.2+cpu'"
      ]
     },
     "execution_count": 1,
     "metadata": {},
     "output_type": "execute_result"
    }
   ],
   "source": [
    "import torch \n",
    "from torch import nn\n",
    "\n",
    "torch.__version__"
   ]
  },
  {
   "cell_type": "markdown",
   "metadata": {},
   "source": [
    "## Ejercicio 1: Cree un dataset de línea recta utilizando la fórmula de regresión lineal ().weight * X + bias"
   ]
  },
  {
   "cell_type": "code",
   "execution_count": 47,
   "metadata": {},
   "outputs": [
    {
     "data": {
      "text/plain": [
       "(80, 20)"
      ]
     },
     "execution_count": 47,
     "metadata": {},
     "output_type": "execute_result"
    }
   ],
   "source": [
    "# --> Knows parameters\n",
    "weight = 0.3\n",
    "bias = 0.9\n",
    "\n",
    "# --> Data\n",
    "X = torch.arange(start=0, end=2, step=0.02).unsqueeze_(dim=1)\n",
    "y = weight * X + bias\n",
    "\n",
    "# --> Split data\n",
    "number = int(len(X) * 0.8)\n",
    "X_train, X_test = X[:number], X[number:]\n",
    "y_train, y_test = y[:number], y[number:]\n",
    "\n",
    "len(X_train), len(X_test)"
   ]
  },
  {
   "cell_type": "code",
   "execution_count": 41,
   "metadata": {},
   "outputs": [
    {
     "data": {
      "image/png": "[encoded data removed]",
      "text/plain": [
       "<Figure size 1000x700 with 1 Axes>"
      ]
     },
     "metadata": {},
     "output_type": "display_data"
    }
   ],
   "source": [
    "# --> Show data\n",
    "import matplotlib.pyplot as plt\n",
    "\n",
    "def plot_predictions(train_data, train_labels, test_data, test_labels, predictions=None):\n",
    "    \"\"\"\n",
    "    Plots training data, test data and compares predictions.\n",
    "    \"\"\"\n",
    "    plt.figure(figsize=(10, 7))\n",
    "\n",
    "    # Plot training data in blue\n",
    "    plt.scatter(train_data, train_labels, c=\"b\", s=4, label=\"Training data\")\n",
    "    \n",
    "    # Plot test data in yellow\n",
    "    plt.scatter(test_data, test_labels, c=\"y\", s=4, label=\"Testing data\")\n",
    "\n",
    "    if predictions is not None:\n",
    "        # Plot the predictions in red (predictions were made on the test data)\n",
    "        plt.scatter(test_data, predictions, c=\"r\", s=4, label=\"Predictions\")\n",
    "\n",
    "    # Show the legend\n",
    "    plt.legend(prop={\"size\": 14});\n",
    "\n",
    "plot_predictions(X_train, y_train, X_test, y_test)"
   ]
  },
  {
   "cell_type": "markdown",
   "metadata": {},
   "source": [
    "## Ejercicio 2: Compile un modelo de PyTorch mediante la creación de subclases .nn.Module"
   ]
  },
  {
   "cell_type": "code",
   "execution_count": 57,
   "metadata": {},
   "outputs": [
    {
     "data": {
      "text/plain": [
       "(OrderedDict([('linear_layer.weight', tensor([[-0.2343]])),\n",
       "              ('linear_layer.bias', tensor([0.9186]))]),\n",
       " [Parameter containing:\n",
       "  tensor([[-0.2343]], requires_grad=True),\n",
       "  Parameter containing:\n",
       "  tensor([0.9186], requires_grad=True)])"
      ]
     },
     "execution_count": 57,
     "metadata": {},
     "output_type": "execute_result"
    }
   ],
   "source": [
    "from torch import nn\n",
    "\n",
    "\n",
    "# --> Model\n",
    "class LinearRegression(nn.Module):\n",
    "    def __init__(self):\n",
    "        super().__init__()\n",
    "        self.linear_layer = nn.Linear(in_features=1, out_features=1)\n",
    "\n",
    "    def forward(self, x: torch.Tensor) -> torch.Tensor:\n",
    "        return self.linear_layer(x)\n",
    "    \n",
    "linear_model = LinearRegression()\n",
    "linear_model.state_dict(), list(linear_model.parameters())"
   ]
  },
  {
   "cell_type": "markdown",
   "metadata": {},
   "source": [
    "## Ejercicio 3: Cree una función de pérdida y un optimizador usando y respectivamente.nn.L1Loss()torch.optim.SGD(params, lr)"
   ]
  },
  {
   "cell_type": "code",
   "execution_count": 58,
   "metadata": {},
   "outputs": [],
   "source": [
    "# --> Loss function\n",
    "loss_fn = nn.L1Loss()\n",
    "\n",
    "# --> Optimizer\n",
    "optimizer = torch.optim.SGD(linear_model.parameters(), lr=0.01)"
   ]
  },
  {
   "cell_type": "code",
   "execution_count": 61,
   "metadata": {},
   "outputs": [
    {
     "name": "stdout",
     "output_type": "stream",
     "text": [
      "Epoch [0 / 300] -> Train loss: 0.0131 | Test loss: 0.0035\n",
      "Epoch [20 / 300] -> Train loss: 0.0131 | Test loss: 0.0035\n",
      "Epoch [40 / 300] -> Train loss: 0.0131 | Test loss: 0.0035\n",
      "Epoch [60 / 300] -> Train loss: 0.0131 | Test loss: 0.0035\n",
      "Epoch [80 / 300] -> Train loss: 0.0131 | Test loss: 0.0035\n",
      "Epoch [100 / 300] -> Train loss: 0.0131 | Test loss: 0.0035\n",
      "Epoch [120 / 300] -> Train loss: 0.0131 | Test loss: 0.0035\n",
      "Epoch [140 / 300] -> Train loss: 0.0131 | Test loss: 0.0035\n",
      "Epoch [160 / 300] -> Train loss: 0.0131 | Test loss: 0.0035\n",
      "Epoch [180 / 300] -> Train loss: 0.0131 | Test loss: 0.0035\n",
      "Epoch [200 / 300] -> Train loss: 0.0131 | Test loss: 0.0035\n",
      "Epoch [220 / 300] -> Train loss: 0.0131 | Test loss: 0.0035\n",
      "Epoch [240 / 300] -> Train loss: 0.0131 | Test loss: 0.0035\n",
      "Epoch [260 / 300] -> Train loss: 0.0131 | Test loss: 0.0035\n",
      "Epoch [280 / 300] -> Train loss: 0.0131 | Test loss: 0.0035\n"
     ]
    }
   ],
   "source": [
    "# --> Training loop\n",
    "epochs = 300\n",
    "\n",
    "train_loss_values = []\n",
    "test_loss_values = []\n",
    "epoch_count = []\n",
    "\n",
    "for epoch in range(epochs):\n",
    "    # --> Training\n",
    "    linear_model.train()\n",
    "    y_pred = linear_model(X_train)\n",
    "    loss = loss_fn(y_pred, y_train)\n",
    "    optimizer.zero_grad()\n",
    "    loss.backward()\n",
    "    optimizer.step()\n",
    "\n",
    "    # --> Testing\n",
    "    linear_model.eval()\n",
    "\n",
    "    with torch.inference_mode():\n",
    "        test_pred = linear_model(X_test)\n",
    "        test_loss = loss_fn(test_pred, y_test.type(torch.float32))\n",
    "\n",
    "        if epoch % 20 == 0:\n",
    "            print(f\"Epoch [{epoch} / {epochs}] -> Train loss: {loss.item():.4f} | Test loss: {test_loss.item():.4f}\")\n"
   ]
  },
  {
   "cell_type": "markdown",
   "metadata": {},
   "source": [
    "## Ejercicio 4: Realice predicciones con el modelo entrenado en los datos de prueba."
   ]
  },
  {
   "cell_type": "code",
   "execution_count": 62,
   "metadata": {},
   "outputs": [
    {
     "data": {
      "image/png": "[encoded data removed]",
      "text/plain": [
       "<Figure size 1000x700 with 1 Axes>"
      ]
     },
     "metadata": {},
     "output_type": "display_data"
    }
   ],
   "source": [
    "linear_model.eval()\n",
    "\n",
    "with torch.inference_mode():\n",
    "    predictions = linear_model(X_test)\n",
    "\n",
    "plot_predictions(X_train, y_train, X_test, y_test, predictions)"
   ]
  },
  {
   "cell_type": "markdown",
   "metadata": {},
   "source": [
    "## Ejercicio 5: Guarde los modelos entrenados en el archivo.state_dict()"
   ]
  },
  {
   "cell_type": "code",
   "execution_count": 63,
   "metadata": {},
   "outputs": [
    {
     "name": "stdout",
     "output_type": "stream",
     "text": [
      "Saving model to: models\\01_pytorch_workflow_model_0.pth\n"
     ]
    }
   ],
   "source": [
    "from pathlib import Path\n",
    "\n",
    "# 1. Create models directory \n",
    "MODEL_PATH = Path(\"models\")\n",
    "MODEL_PATH.mkdir(parents=True, exist_ok=True)\n",
    "\n",
    "# 2. Create model save path \n",
    "MODEL_NAME = \"01_pytorch_workflow_model_0.pth\"\n",
    "MODEL_SAVE_PATH = MODEL_PATH / MODEL_NAME\n",
    "\n",
    "# 3. Save the model state dict \n",
    "print(f\"Saving model to: {MODEL_SAVE_PATH}\")\n",
    "torch.save(\n",
    "    obj=linear_model.state_dict(), # only saving the state_dict() only saves the models learned parameters\n",
    "    f=MODEL_SAVE_PATH\n",
    ")"
   ]
  },
  {
   "cell_type": "markdown",
   "metadata": {},
   "source": [
    "## Ejercicio 6: Cargar modelo"
   ]
  },
  {
   "cell_type": "code",
   "execution_count": 65,
   "metadata": {},
   "outputs": [
    {
     "data": {
      "text/plain": [
       "tensor([[True],\n",
       "        [True],\n",
       "        [True],\n",
       "        [True],\n",
       "        [True],\n",
       "        [True],\n",
       "        [True],\n",
       "        [True],\n",
       "        [True],\n",
       "        [True],\n",
       "        [True],\n",
       "        [True],\n",
       "        [True],\n",
       "        [True],\n",
       "        [True],\n",
       "        [True],\n",
       "        [True],\n",
       "        [True],\n",
       "        [True],\n",
       "        [True]])"
      ]
     },
     "execution_count": 65,
     "metadata": {},
     "output_type": "execute_result"
    }
   ],
   "source": [
    "# Instantiate a new instance of our model (this will be instantiated with random weights)\n",
    "loaded_model_0 = LinearRegression()\n",
    "\n",
    "# Load the state_dict of our saved model (this will update the new instance of our model with trained weights)\n",
    "loaded_model_0.load_state_dict(torch.load(f=MODEL_SAVE_PATH))\n",
    "\n",
    "# 1. Put the loaded model into evaluation mode\n",
    "loaded_model_0.eval()\n",
    "\n",
    "# 2. Use the inference mode context manager to make predictions\n",
    "with torch.inference_mode():\n",
    "    loaded_model_preds = loaded_model_0(X_test) # perform a forward pass on the test data with the loaded model\n",
    "\n",
    "predictions == loaded_model_preds"
   ]
  }
 ],
 "metadata": {
  "kernelspec": {
   "display_name": "Python 3",
   "language": "python",
   "name": "python3"
  },
  "language_info": {
   "codemirror_mode": {
    "name": "ipython",
    "version": 3
   },
   "file_extension": ".py",
   "mimetype": "text/x-python",
   "name": "python",
   "nbconvert_exporter": "python",
   "pygments_lexer": "ipython3",
   "version": "3.11.3"
  }
 },
 "nbformat": 4,
 "nbformat_minor": 2
}
